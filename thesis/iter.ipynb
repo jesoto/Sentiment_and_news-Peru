{
 "cells": [
  {
   "cell_type": "code",
   "execution_count": 24,
   "metadata": {},
   "outputs": [
    {
     "name": "stdout",
     "output_type": "stream",
     "text": [
      "Requirement already satisfied: nltk in c:\\users\\pc\\anaconda3\\lib\\site-packages (3.6.5)\n",
      "Requirement already satisfied: click in c:\\users\\pc\\anaconda3\\lib\\site-packages (from nltk) (8.0.3)\n",
      "Requirement already satisfied: joblib in c:\\users\\pc\\anaconda3\\lib\\site-packages (from nltk) (1.1.0)\n",
      "Requirement already satisfied: regex>=2021.8.3 in c:\\users\\pc\\anaconda3\\lib\\site-packages (from nltk) (2021.8.3)\n",
      "Requirement already satisfied: tqdm in c:\\users\\pc\\anaconda3\\lib\\site-packages (from nltk) (4.62.3)\n",
      "Requirement already satisfied: colorama in c:\\users\\pc\\anaconda3\\lib\\site-packages (from click->nltk) (0.4.4)\n"
     ]
    },
    {
     "name": "stderr",
     "output_type": "stream",
     "text": [
      "[nltk_data] Downloading package vader_lexicon to\n",
      "[nltk_data]     C:\\Users\\PC\\AppData\\Roaming\\nltk_data...\n",
      "[nltk_data]   Package vader_lexicon is already up-to-date!\n",
      "[nltk_data] Downloading package punkt to\n",
      "[nltk_data]     C:\\Users\\PC\\AppData\\Roaming\\nltk_data...\n",
      "[nltk_data]   Package punkt is already up-to-date!\n",
      "[nltk_data] Downloading package stopwords to\n",
      "[nltk_data]     C:\\Users\\PC\\AppData\\Roaming\\nltk_data...\n",
      "[nltk_data]   Package stopwords is already up-to-date!\n",
      "[nltk_data] Downloading package words to\n",
      "[nltk_data]     C:\\Users\\PC\\AppData\\Roaming\\nltk_data...\n",
      "[nltk_data]   Package words is already up-to-date!\n",
      "[nltk_data] Downloading package averaged_perceptron_tagger to\n",
      "[nltk_data]     C:\\Users\\PC\\AppData\\Roaming\\nltk_data...\n",
      "[nltk_data]   Package averaged_perceptron_tagger is already up-to-\n",
      "[nltk_data]       date!\n",
      "[nltk_data] Downloading package wordnet to\n",
      "[nltk_data]     C:\\Users\\PC\\AppData\\Roaming\\nltk_data...\n",
      "[nltk_data]   Package wordnet is already up-to-date!\n"
     ]
    },
    {
     "name": "stdout",
     "output_type": "stream",
     "text": [
      "Requirement already satisfied: gensim==3.8.3 in c:\\users\\pc\\anaconda3\\lib\\site-packages (3.8.3)\n",
      "Requirement already satisfied: numpy>=1.11.3 in c:\\users\\pc\\anaconda3\\lib\\site-packages (from gensim==3.8.3) (1.19.5)\n",
      "Requirement already satisfied: six>=1.5.0 in c:\\users\\pc\\anaconda3\\lib\\site-packages (from gensim==3.8.3) (1.15.0)\n",
      "Requirement already satisfied: scipy>=0.18.1 in c:\\users\\pc\\anaconda3\\lib\\site-packages (from gensim==3.8.3) (1.7.1)\n",
      "Requirement already satisfied: smart-open>=1.8.1 in c:\\users\\pc\\anaconda3\\lib\\site-packages (from gensim==3.8.3) (5.2.1)\n"
     ]
    }
   ],
   "source": [
    "!pip install nltk\n",
    "import nltk\n",
    "import re\n",
    "import string\n",
    "from nltk.tokenize import RegexpTokenizer\n",
    "from nltk.stem import WordNetLemmatizer\n",
    "from nltk.stem import PorterStemmer\n",
    "from nltk.corpus import stopwords  \n",
    "from nltk.corpus import words\n",
    "from collections import Counter \n",
    "from nltk.sentiment.vader import SentimentIntensityAnalyzer\n",
    "nltk.download('vader_lexicon')\n",
    "nltk.download('punkt')\n",
    "nltk.download('stopwords')\n",
    "nltk.download('words')\n",
    "nltk.download('averaged_perceptron_tagger')\n",
    "nltk.download('wordnet')\n",
    "\n",
    "# Gensim\n",
    "!pip install -U gensim==3.8.3\n",
    "import gensim\n",
    "import gensim.corpora as corpora\n",
    "from gensim.utils import simple_preprocess\n",
    "from gensim.models import CoherenceModel\n",
    "\n",
    "# installing mallet\n",
    "# !wget http://mallet.cs.umass.edu/dist/mallet-2.0.8.zip\n",
    "# !unzip mallet-2.0.8.zip\n",
    "\n",
    "\n",
    "import pandas as pd\n",
    "import numpy as np\n",
    "import datetime as dt\n",
    "\n",
    "# Plotting tools\n",
    "import matplotlib\n",
    "from matplotlib import pylab\n",
    "import matplotlib.pyplot as plt\n",
    "import seaborn as sns\n",
    "sns.set()\n",
    "\n",
    "# Center outputs\n",
    "from IPython.core.display import HTML, Markdown\n",
    "HTML(\"\"\"\n",
    "<style>\n",
    ".output_png, .output {\n",
    "    display: table-cell;\n",
    "    text-align: center;\n",
    "    vertical-align: middle;\n",
    "}\n",
    "</style>\n",
    "\"\"\")\n",
    "\n",
    "import warnings\n",
    "warnings.filterwarnings('once')"
   ]
  },
  {
   "cell_type": "code",
   "execution_count": 43,
   "metadata": {},
   "outputs": [],
   "source": [
    "df=pd.read_csv(\"../data/data_news.csv\")"
   ]
  },
  {
   "cell_type": "code",
   "execution_count": 44,
   "metadata": {},
   "outputs": [
    {
     "data": {
      "text/html": [
       "<div>\n",
       "<style scoped>\n",
       "    .dataframe tbody tr th:only-of-type {\n",
       "        vertical-align: middle;\n",
       "    }\n",
       "\n",
       "    .dataframe tbody tr th {\n",
       "        vertical-align: top;\n",
       "    }\n",
       "\n",
       "    .dataframe thead th {\n",
       "        text-align: right;\n",
       "    }\n",
       "</style>\n",
       "<table border=\"1\" class=\"dataframe\">\n",
       "  <thead>\n",
       "    <tr style=\"text-align: right;\">\n",
       "      <th></th>\n",
       "      <th>categoria</th>\n",
       "      <th>href</th>\n",
       "      <th>fecha</th>\n",
       "      <th>title</th>\n",
       "    </tr>\n",
       "  </thead>\n",
       "  <tbody>\n",
       "    <tr>\n",
       "      <th>0</th>\n",
       "      <td>Economía</td>\n",
       "      <td>/economia/david-stern-el-hombre-que-transformo...</td>\n",
       "      <td>2020-01-01</td>\n",
       "      <td>David Stern, the man who transformed the NBA i...</td>\n",
       "    </tr>\n",
       "    <tr>\n",
       "      <th>1</th>\n",
       "      <td>Internacional</td>\n",
       "      <td>/mundo/internacional/como-un-pais-con-vinos-de...</td>\n",
       "      <td>2020-01-01</td>\n",
       "      <td>How a country with unknown wines conquered New...</td>\n",
       "    </tr>\n",
       "    <tr>\n",
       "      <th>2</th>\n",
       "      <td>Empresas</td>\n",
       "      <td>/economia/empresas/hombre-mas-rico-de-asia-ret...</td>\n",
       "      <td>2020-01-01</td>\n",
       "      <td>Asia's richest man challenges Amazon with new ...</td>\n",
       "    </tr>\n",
       "    <tr>\n",
       "      <th>3</th>\n",
       "      <td>Empresas</td>\n",
       "      <td>/economia/empresas/italia-inicia-el-camino-par...</td>\n",
       "      <td>2020-01-01</td>\n",
       "      <td>Italy begins the path to suspend concessions t...</td>\n",
       "    </tr>\n",
       "    <tr>\n",
       "      <th>4</th>\n",
       "      <td>Política</td>\n",
       "      <td>/peru/politica/elecciones-2020-jne-confirma-do...</td>\n",
       "      <td>2020-01-01</td>\n",
       "      <td>Elections 2020: JNE confirms two candidacies a...</td>\n",
       "    </tr>\n",
       "  </tbody>\n",
       "</table>\n",
       "</div>"
      ],
      "text/plain": [
       "       categoria                                               href  \\\n",
       "0       Economía  /economia/david-stern-el-hombre-que-transformo...   \n",
       "1  Internacional  /mundo/internacional/como-un-pais-con-vinos-de...   \n",
       "2       Empresas  /economia/empresas/hombre-mas-rico-de-asia-ret...   \n",
       "3       Empresas  /economia/empresas/italia-inicia-el-camino-par...   \n",
       "4       Política  /peru/politica/elecciones-2020-jne-confirma-do...   \n",
       "\n",
       "        fecha                                              title  \n",
       "0  2020-01-01  David Stern, the man who transformed the NBA i...  \n",
       "1  2020-01-01  How a country with unknown wines conquered New...  \n",
       "2  2020-01-01  Asia's richest man challenges Amazon with new ...  \n",
       "3  2020-01-01  Italy begins the path to suspend concessions t...  \n",
       "4  2020-01-01  Elections 2020: JNE confirms two candidacies a...  "
      ]
     },
     "execution_count": 44,
     "metadata": {},
     "output_type": "execute_result"
    }
   ],
   "source": [
    "df=df.drop(columns=['Unnamed: 0','titulo'])\n",
    "df.head()"
   ]
  },
  {
   "cell_type": "code",
   "execution_count": 45,
   "metadata": {},
   "outputs": [],
   "source": [
    "def convertToDatetime(x):\n",
    "  dt_obj = dt.datetime.strptime(x, '%Y-%m-%d')\n",
    "  return dt_obj\n",
    "# converting all the rows's dates to datetime objects\n",
    "df['fecha'] = df['fecha'].apply(convertToDatetime)\n",
    "df['year'] = df['fecha'].apply((lambda x: x.year))"
   ]
  },
  {
   "cell_type": "code",
   "execution_count": 59,
   "metadata": {},
   "outputs": [],
   "source": [
    "def remove_stopwords(texts):\n",
    "    stop_words = stopwords.words('english')\n",
    "    return [[word for word in simple_preprocess(str(doc)) if (word not in stop_words) & (len(word) > 2)] for doc in texts]\n",
    "\n",
    "def make_bigrams(texts):\n",
    "    return [bigram_mod[doc] for doc in texts]\n",
    "\n",
    "def sent_to_words(sentences):\n",
    "    for sentence in sentences:\n",
    "        yield(gensim.utils.simple_preprocess(str(sentence), deacc=True))  # deacc=True removes punctuations\n",
    "\n",
    "# funciton to remove numbers\n",
    "def removeNumbers(s):\n",
    "  pattern = r'[0-9]'\n",
    "  return re.sub(pattern, '', s)\n",
    "\n",
    "# funciton to remove punctuation\n",
    "def removePunctuation(s):\n",
    "  pattern = r'[^\\w\\s]'\n",
    "  return re.sub(pattern, '', s)\n",
    "\n",
    "# function that lemmatizes and stems an array of words for later analysis\n",
    "def lemmatizeStemArryOfWords(arr):\n",
    "  result = [lemmatizer.lemmatize(word) for word in arr]\n",
    "  result = [ps.stem(word) for word in result]\n",
    "  return result"
   ]
  },
  {
   "cell_type": "code",
   "execution_count": null,
   "metadata": {},
   "outputs": [],
   "source": []
  },
  {
   "cell_type": "code",
   "execution_count": 46,
   "metadata": {},
   "outputs": [],
   "source": [
    "headlines = []\n",
    "for fecha in df['fecha'].unique():\n",
    "    headlines.append(' '.join(str(x) for x in df[df['fecha'] ==fecha ].iloc[0:16,3]))\n",
    "    \n",
    "    "
   ]
  },
  {
   "cell_type": "code",
   "execution_count": 47,
   "metadata": {},
   "outputs": [],
   "source": [
    "data = pd.DataFrame(list(zip(df['fecha'].unique(), headlines)), columns=['Fecha', 'headlines'])"
   ]
  },
  {
   "cell_type": "code",
   "execution_count": 49,
   "metadata": {},
   "outputs": [],
   "source": [
    "label = pd.read_excel(\"../data/MONTO DE INTERVENCION.xlsx\")"
   ]
  },
  {
   "cell_type": "code",
   "execution_count": 35,
   "metadata": {},
   "outputs": [
    {
     "data": {
      "text/html": [
       "<div>\n",
       "<style scoped>\n",
       "    .dataframe tbody tr th:only-of-type {\n",
       "        vertical-align: middle;\n",
       "    }\n",
       "\n",
       "    .dataframe tbody tr th {\n",
       "        vertical-align: top;\n",
       "    }\n",
       "\n",
       "    .dataframe thead th {\n",
       "        text-align: right;\n",
       "    }\n",
       "</style>\n",
       "<table border=\"1\" class=\"dataframe\">\n",
       "  <thead>\n",
       "    <tr style=\"text-align: right;\">\n",
       "      <th></th>\n",
       "      <th>Fecha</th>\n",
       "      <th>Monto de intervención</th>\n",
       "      <th>Tipo de Cambio</th>\n",
       "      <th>tasa</th>\n",
       "      <th>label</th>\n",
       "      <th>TCVENTA</th>\n",
       "      <th>Precio</th>\n",
       "      <th>Volumen</th>\n",
       "    </tr>\n",
       "  </thead>\n",
       "  <tbody>\n",
       "    <tr>\n",
       "      <th>0</th>\n",
       "      <td>2020-12-28</td>\n",
       "      <td>7</td>\n",
       "      <td>3.612833</td>\n",
       "      <td>NaN</td>\n",
       "      <td>NaN</td>\n",
       "      <td>3.616167</td>\n",
       "      <td>20842.40</td>\n",
       "      <td>10630205</td>\n",
       "    </tr>\n",
       "    <tr>\n",
       "      <th>1</th>\n",
       "      <td>2020-12-29</td>\n",
       "      <td>52</td>\n",
       "      <td>3.617500</td>\n",
       "      <td>0.001291</td>\n",
       "      <td>1.0</td>\n",
       "      <td>3.619500</td>\n",
       "      <td>20862.78</td>\n",
       "      <td>10632724</td>\n",
       "    </tr>\n",
       "    <tr>\n",
       "      <th>2</th>\n",
       "      <td>2020-12-30</td>\n",
       "      <td>36</td>\n",
       "      <td>3.618167</td>\n",
       "      <td>0.000184</td>\n",
       "      <td>1.0</td>\n",
       "      <td>3.619833</td>\n",
       "      <td>20967.19</td>\n",
       "      <td>5528837</td>\n",
       "    </tr>\n",
       "    <tr>\n",
       "      <th>3</th>\n",
       "      <td>2020-12-31</td>\n",
       "      <td>0</td>\n",
       "      <td>3.620250</td>\n",
       "      <td>0.000576</td>\n",
       "      <td>1.0</td>\n",
       "      <td>3.623000</td>\n",
       "      <td>20822.15</td>\n",
       "      <td>4391459</td>\n",
       "    </tr>\n",
       "    <tr>\n",
       "      <th>4</th>\n",
       "      <td>2021-01-04</td>\n",
       "      <td>142</td>\n",
       "      <td>3.624000</td>\n",
       "      <td>0.001035</td>\n",
       "      <td>1.0</td>\n",
       "      <td>3.626667</td>\n",
       "      <td>21013.24</td>\n",
       "      <td>23568144</td>\n",
       "    </tr>\n",
       "  </tbody>\n",
       "</table>\n",
       "</div>"
      ],
      "text/plain": [
       "       Fecha  Monto de intervención  Tipo de Cambio      tasa  label  \\\n",
       "0 2020-12-28                      7        3.612833       NaN    NaN   \n",
       "1 2020-12-29                     52        3.617500  0.001291    1.0   \n",
       "2 2020-12-30                     36        3.618167  0.000184    1.0   \n",
       "3 2020-12-31                      0        3.620250  0.000576    1.0   \n",
       "4 2021-01-04                    142        3.624000  0.001035    1.0   \n",
       "\n",
       "    TCVENTA    Precio   Volumen  \n",
       "0  3.616167  20842.40  10630205  \n",
       "1  3.619500  20862.78  10632724  \n",
       "2  3.619833  20967.19   5528837  \n",
       "3  3.623000  20822.15   4391459  \n",
       "4  3.626667  21013.24  23568144  "
      ]
     },
     "execution_count": 35,
     "metadata": {},
     "output_type": "execute_result"
    }
   ],
   "source": [
    "label.head()"
   ]
  },
  {
   "cell_type": "code",
   "execution_count": 51,
   "metadata": {},
   "outputs": [],
   "source": [
    "data1 = label.merge(data,on='Fecha', how='left')"
   ]
  },
  {
   "cell_type": "code",
   "execution_count": 55,
   "metadata": {},
   "outputs": [],
   "source": [
    "data1 = data1.iloc[1:,:]"
   ]
  },
  {
   "cell_type": "code",
   "execution_count": 58,
   "metadata": {},
   "outputs": [
    {
     "data": {
      "text/html": [
       "<div>\n",
       "<style scoped>\n",
       "    .dataframe tbody tr th:only-of-type {\n",
       "        vertical-align: middle;\n",
       "    }\n",
       "\n",
       "    .dataframe tbody tr th {\n",
       "        vertical-align: top;\n",
       "    }\n",
       "\n",
       "    .dataframe thead th {\n",
       "        text-align: right;\n",
       "    }\n",
       "</style>\n",
       "<table border=\"1\" class=\"dataframe\">\n",
       "  <thead>\n",
       "    <tr style=\"text-align: right;\">\n",
       "      <th></th>\n",
       "      <th>Fecha</th>\n",
       "      <th>Monto de intervención</th>\n",
       "      <th>Tipo de Cambio</th>\n",
       "      <th>tasa</th>\n",
       "      <th>label</th>\n",
       "      <th>TCVENTA</th>\n",
       "      <th>Precio</th>\n",
       "      <th>Volumen</th>\n",
       "      <th>headlines</th>\n",
       "    </tr>\n",
       "  </thead>\n",
       "  <tbody>\n",
       "    <tr>\n",
       "      <th>1</th>\n",
       "      <td>2020-12-29</td>\n",
       "      <td>52</td>\n",
       "      <td>3.617500</td>\n",
       "      <td>0.001291</td>\n",
       "      <td>1.0</td>\n",
       "      <td>3.619500</td>\n",
       "      <td>20862.78</td>\n",
       "      <td>10632724</td>\n",
       "      <td>Approving interest rate control law is a setba...</td>\n",
       "    </tr>\n",
       "    <tr>\n",
       "      <th>2</th>\n",
       "      <td>2020-12-30</td>\n",
       "      <td>36</td>\n",
       "      <td>3.618167</td>\n",
       "      <td>0.000184</td>\n",
       "      <td>1.0</td>\n",
       "      <td>3.619833</td>\n",
       "      <td>20967.19</td>\n",
       "      <td>5528837</td>\n",
       "      <td>FTA with the United Kingdom favors the economi...</td>\n",
       "    </tr>\n",
       "    <tr>\n",
       "      <th>3</th>\n",
       "      <td>2020-12-31</td>\n",
       "      <td>0</td>\n",
       "      <td>3.620250</td>\n",
       "      <td>0.000576</td>\n",
       "      <td>1.0</td>\n",
       "      <td>3.623000</td>\n",
       "      <td>20822.15</td>\n",
       "      <td>4391459</td>\n",
       "      <td>They admit to process a cross against the cand...</td>\n",
       "    </tr>\n",
       "    <tr>\n",
       "      <th>4</th>\n",
       "      <td>2021-01-04</td>\n",
       "      <td>142</td>\n",
       "      <td>3.624000</td>\n",
       "      <td>0.001035</td>\n",
       "      <td>1.0</td>\n",
       "      <td>3.626667</td>\n",
       "      <td>21013.24</td>\n",
       "      <td>23568144</td>\n",
       "      <td>Elections 2021: Two objections presented again...</td>\n",
       "    </tr>\n",
       "    <tr>\n",
       "      <th>5</th>\n",
       "      <td>2021-01-05</td>\n",
       "      <td>35</td>\n",
       "      <td>3.627500</td>\n",
       "      <td>0.000965</td>\n",
       "      <td>1.0</td>\n",
       "      <td>3.633667</td>\n",
       "      <td>21009.13</td>\n",
       "      <td>13526944</td>\n",
       "      <td>Part of the list of candidates for the Lima Co...</td>\n",
       "    </tr>\n",
       "  </tbody>\n",
       "</table>\n",
       "</div>"
      ],
      "text/plain": [
       "       Fecha  Monto de intervención  Tipo de Cambio      tasa  label  \\\n",
       "1 2020-12-29                     52        3.617500  0.001291    1.0   \n",
       "2 2020-12-30                     36        3.618167  0.000184    1.0   \n",
       "3 2020-12-31                      0        3.620250  0.000576    1.0   \n",
       "4 2021-01-04                    142        3.624000  0.001035    1.0   \n",
       "5 2021-01-05                     35        3.627500  0.000965    1.0   \n",
       "\n",
       "    TCVENTA    Precio   Volumen  \\\n",
       "1  3.619500  20862.78  10632724   \n",
       "2  3.619833  20967.19   5528837   \n",
       "3  3.623000  20822.15   4391459   \n",
       "4  3.626667  21013.24  23568144   \n",
       "5  3.633667  21009.13  13526944   \n",
       "\n",
       "                                           headlines  \n",
       "1  Approving interest rate control law is a setba...  \n",
       "2  FTA with the United Kingdom favors the economi...  \n",
       "3  They admit to process a cross against the cand...  \n",
       "4  Elections 2021: Two objections presented again...  \n",
       "5  Part of the list of candidates for the Lima Co...  "
      ]
     },
     "execution_count": 58,
     "metadata": {},
     "output_type": "execute_result"
    }
   ],
   "source": [
    "data1.head()"
   ]
  },
  {
   "cell_type": "code",
   "execution_count": 65,
   "metadata": {},
   "outputs": [],
   "source": [
    "data1 = data1.loc[:,('Fecha','label','headlines')]"
   ]
  },
  {
   "cell_type": "code",
   "execution_count": 70,
   "metadata": {},
   "outputs": [
    {
     "data": {
      "text/plain": [
       "Fecha                                      2021-08-24 00:00:00\n",
       "label                                                      0.0\n",
       "headlines    Vladimiro Montesino will be transferred to the...\n",
       "Name: 165, dtype: object"
      ]
     },
     "execution_count": 70,
     "metadata": {},
     "output_type": "execute_result"
    }
   ],
   "source": [
    "data1.iloc[164,:]"
   ]
  },
  {
   "cell_type": "code",
   "execution_count": 73,
   "metadata": {},
   "outputs": [],
   "source": [
    "train  = data[data['Fecha'] < '2021-08-24']\n",
    "test = data[data['Fecha'] >= '2021-08-24']"
   ]
  },
  {
   "cell_type": "code",
   "execution_count": 76,
   "metadata": {},
   "outputs": [],
   "source": [
    "text = train.loc[:,'headlines']"
   ]
  },
  {
   "cell_type": "code",
   "execution_count": 78,
   "metadata": {},
   "outputs": [
    {
     "name": "stderr",
     "output_type": "stream",
     "text": [
      "C:\\Users\\PC\\anaconda3\\lib\\site-packages\\pandas\\core\\generic.py:6619: SettingWithCopyWarning: \n",
      "A value is trying to be set on a copy of a slice from a DataFrame\n",
      "\n",
      "See the caveats in the documentation: https://pandas.pydata.org/pandas-docs/stable/user_guide/indexing.html#returning-a-view-versus-a-copy\n",
      "  return self._update_inplace(result)\n"
     ]
    }
   ],
   "source": [
    "text.replace(\"[^a-zA-Z]\",\" \", regex = True, inplace = True)"
   ]
  },
  {
   "cell_type": "code",
   "execution_count": 79,
   "metadata": {},
   "outputs": [
    {
     "data": {
      "text/plain": [
       "0      David Stern  the man who transformed the NBA i...\n",
       "1      Keiko Fujimori  judge rejects psychiatric expe...\n",
       "2      JNJ  Prosecutor of the Nation voted against th...\n",
       "3      Elections       citizens will be able to ask q...\n",
       "4      Gra a y Montero knew of US   million delivered...\n",
       "                             ...                        \n",
       "596    JNJ asks the Executive Branch for a report fro...\n",
       "597    Colombia will give booster doses against COVID...\n",
       "598    Learn about these digital solutions that will ...\n",
       "599    SNMPE      of mining profits stay in Peru Elme...\n",
       "600    Roberto S nchez   An attempt is being made to ...\n",
       "Name: headlines, Length: 601, dtype: object"
      ]
     },
     "execution_count": 79,
     "metadata": {},
     "output_type": "execute_result"
    }
   ],
   "source": [
    "text"
   ]
  }
 ],
 "metadata": {
  "interpreter": {
   "hash": "c469c999aae2bf6d578d6881606ced546d1546d312a4811937df5b24665ee8bc"
  },
  "kernelspec": {
   "display_name": "Python 3.9.7 ('base')",
   "language": "python",
   "name": "python3"
  },
  "language_info": {
   "codemirror_mode": {
    "name": "ipython",
    "version": 3
   },
   "file_extension": ".py",
   "mimetype": "text/x-python",
   "name": "python",
   "nbconvert_exporter": "python",
   "pygments_lexer": "ipython3",
   "version": "3.9.7"
  },
  "orig_nbformat": 4
 },
 "nbformat": 4,
 "nbformat_minor": 2
}
