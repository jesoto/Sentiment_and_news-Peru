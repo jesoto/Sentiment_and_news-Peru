{
  "cells": [
    {
      "cell_type": "code",
      "execution_count": 1,
      "metadata": {
        "colab": {
          "base_uri": "https://localhost:8080/"
        },
        "id": "JTfi4KUzUxFh",
        "outputId": "644aff14-3b25-45da-e47c-5a8a3e534313"
      },
      "outputs": [
        {
          "ename": "ModuleNotFoundError",
          "evalue": "No module named 'google.colab'",
          "output_type": "error",
          "traceback": [
            "\u001b[1;31m---------------------------------------------------------------------------\u001b[0m",
            "\u001b[1;31mModuleNotFoundError\u001b[0m                       Traceback (most recent call last)",
            "\u001b[1;32m~\\AppData\\Local\\Temp/ipykernel_19076/2996687805.py\u001b[0m in \u001b[0;36m<module>\u001b[1;34m\u001b[0m\n\u001b[1;32m----> 1\u001b[1;33m \u001b[1;32mfrom\u001b[0m \u001b[0mgoogle\u001b[0m\u001b[1;33m.\u001b[0m\u001b[0mcolab\u001b[0m \u001b[1;32mimport\u001b[0m \u001b[0mdrive\u001b[0m\u001b[1;33m\u001b[0m\u001b[1;33m\u001b[0m\u001b[0m\n\u001b[0m\u001b[0;32m      2\u001b[0m \u001b[0mdrive\u001b[0m\u001b[1;33m.\u001b[0m\u001b[0mmount\u001b[0m\u001b[1;33m(\u001b[0m\u001b[1;34m'/content/drive/'\u001b[0m\u001b[1;33m)\u001b[0m\u001b[1;33m\u001b[0m\u001b[1;33m\u001b[0m\u001b[0m\n\u001b[0;32m      3\u001b[0m \u001b[0mproject_data_path\u001b[0m\u001b[1;33m=\u001b[0m\u001b[1;34m'/content/drive/MyDrive/project_peruvian_news/data'\u001b[0m\u001b[1;33m\u001b[0m\u001b[1;33m\u001b[0m\u001b[0m\n",
            "\u001b[1;31mModuleNotFoundError\u001b[0m: No module named 'google.colab'"
          ]
        }
      ],
      "source": [
        "from google.colab import drive\n",
        "drive.mount('/content/drive/')\n",
        "project_data_path='/content/drive/MyDrive/project_peruvian_news/data'"
      ]
    },
    {
      "cell_type": "markdown",
      "metadata": {
        "id": "uiJelEJXVY81"
      },
      "source": [
        "# Notebook Abstract:\n",
        "\n",
        "Note: This is one of two notebooks provided for our project. This notebook, must be completed before moving on to the second \"Analysis.ipynb\" notebook\n",
        "\n",
        "In the following notebook, we will be showcasing the data aggregation method we utilized in our proejct. We utilized the BeautifulSoup library to collect the title, category, date, and href of every news article in our news website (https://gestion.pe) between two specified start and end dates.\n",
        "\n",
        "Upon aggregation, we also incorperated a translation processor to change the natively spanish titles to english for topic modeling and sentiment analysis."
      ]
    },
    {
      "cell_type": "markdown",
      "metadata": {
        "id": "c3kxDvt7U71G"
      },
      "source": [
        "# Imports\n",
        "\n",
        "Here is just a super large cell holding all of the neccessary imports that our project will use for:\n",
        "\n",
        "- scraping websites\n",
        "- creating dataframes\n",
        "- filtering data\n",
        "- processing translations\n"
      ]
    },
    {
      "cell_type": "code",
      "execution_count": 1,
      "metadata": {
        "colab": {
          "base_uri": "https://localhost:8080/"
        },
        "id": "sNGa3tmWPmfn",
        "outputId": "1708b5fd-6a98-4bc4-8282-95f8a04adb94"
      },
      "outputs": [
        {
          "name": "stdout",
          "output_type": "stream",
          "text": [
            "Requirement already satisfied: deep-translator in c:\\users\\pc\\anaconda3\\lib\\site-packages (1.8.3)\n",
            "Requirement already satisfied: requests<3.0.0,>=2.23.0 in c:\\users\\pc\\anaconda3\\lib\\site-packages (from deep-translator) (2.27.1)\n",
            "Requirement already satisfied: beautifulsoup4<5.0.0,>=4.9.1 in c:\\users\\pc\\anaconda3\\lib\\site-packages (from deep-translator) (4.10.0)\n",
            "Requirement already satisfied: soupsieve>1.2 in c:\\users\\pc\\anaconda3\\lib\\site-packages (from beautifulsoup4<5.0.0,>=4.9.1->deep-translator) (2.2.1)\n",
            "Requirement already satisfied: idna<4,>=2.5 in c:\\users\\pc\\anaconda3\\lib\\site-packages (from requests<3.0.0,>=2.23.0->deep-translator) (3.2)\n",
            "Requirement already satisfied: urllib3<1.27,>=1.21.1 in c:\\users\\pc\\anaconda3\\lib\\site-packages (from requests<3.0.0,>=2.23.0->deep-translator) (1.26.7)\n",
            "Requirement already satisfied: certifi>=2017.4.17 in c:\\users\\pc\\anaconda3\\lib\\site-packages (from requests<3.0.0,>=2.23.0->deep-translator) (2021.10.8)\n",
            "Requirement already satisfied: charset-normalizer~=2.0.0 in c:\\users\\pc\\anaconda3\\lib\\site-packages (from requests<3.0.0,>=2.23.0->deep-translator) (2.0.4)\n"
          ]
        }
      ],
      "source": [
        "import os\n",
        "import datetime\n",
        "import json\n",
        "import bs4\n",
        "import pandas as pd\n",
        "from bs4 import BeautifulSoup\n",
        "from urllib.request import urlopen, Request\n",
        "!pip install deep-translator\n",
        "from deep_translator import GoogleTranslator"
      ]
    },
    {
      "cell_type": "markdown",
      "metadata": {
        "id": "DrfKYamiVjDh"
      },
      "source": [
        "# Initializing the scaping href\n",
        "\n",
        "Here is subjectively the most important part of the entire project. Here we initialize the locaiton of where our data is coming from, and from what dates we would like to collect the information from"
      ]
    },
    {
      "cell_type": "code",
      "execution_count": 2,
      "metadata": {
        "id": "KCRAH_1cPuU0"
      },
      "outputs": [],
      "source": [
        "# Base href for we scaping\n",
        "url_base = \"https://gestion.pe\"\n",
        "# start and end date for web scaping\n",
        "start_date = '2018-01-1'\n",
        "end_date = '2022-05-1'\n"
      ]
    },
    {
      "cell_type": "markdown",
      "metadata": {
        "id": "8ABOyUEAV_pG"
      },
      "source": [
        "# Defining functions for the purpose of Web Scraping\n",
        "\n",
        "In this section of the notebook we will define a colleciton of different functions to display our use case of web scraping with beautiful soup"
      ]
    },
    {
      "cell_type": "code",
      "execution_count": 3,
      "metadata": {
        "id": "yLo95KKBPvrK"
      },
      "outputs": [],
      "source": [
        "def dates(begin, end):\n",
        "  \"\"\"\n",
        "  Description: \n",
        "  The dates funciton returns a list of datetime objects for every day between the begin and end string parameters\n",
        "\n",
        "  Parameters:\n",
        "  begin (str) - the first day in the list of dates format('%Y-%m-%d')\n",
        "  end (str) - the last day in the list of dates format('%Y-%m-%d')\n",
        "  \"\"\"\n",
        "  start = datetime.datetime.strptime(begin, '%Y-%m-%d')\n",
        "  final = datetime.datetime.strptime(end, '%Y-%m-%d')\n",
        "  step = datetime.timedelta(days=1)\n",
        "  vector = []\n",
        "  while(start <= final):\n",
        "      vector.append(start.date())\n",
        "      start += step\n",
        "  new_vector = [date_obj.strftime('%Y-%m-%d') for date_obj in vector]\n",
        "  return  new_vector"
      ]
    },
    {
      "cell_type": "code",
      "execution_count": 4,
      "metadata": {
        "id": "WDt7Yq-3PxBo"
      },
      "outputs": [],
      "source": [
        "def catching_news_date(date):\n",
        "  \"\"\"\n",
        "  Description: \n",
        "  The catching_news_date funciton returns a list of json objects for every news article created on the parameter date\n",
        "\n",
        "  Parameters:\n",
        "  date (Datetime) - the date that the web scraper will collect news article titles from\n",
        "  \"\"\"\n",
        "  try:\n",
        "    global url_base\n",
        "    url = f\"{url_base}/archivo/todas/{date}/\"\n",
        "    html = urlopen(url)\n",
        "    soup = BeautifulSoup(html, 'html.parser')\n",
        "    news = []\n",
        "    for div in soup.find('div', {'role':'main'}).div.find_all('div', recursive=False):\n",
        "        try:\n",
        "            a = div.find('a', {'class': 'story-item__section text-sm text-black md:mb-15'})\n",
        "            category = a.text\n",
        "            title = div.h2.a.text\n",
        "            href = div.h2.a['href']\n",
        "            # print({'categoria': category, 'titulo': title, 'href': href, 'fecha': date})\n",
        "            news.append({'categoria': category, 'titulo': title, 'href': href, 'fecha': date})\n",
        "        except:\n",
        "            continue\n",
        "    # print(news)\n",
        "    return news\n",
        "         \n",
        "  except:\n",
        "    print('error with', url)\n",
        "    return []\n",
        "  \n",
        "  "
      ]
    },
    {
      "cell_type": "markdown",
      "metadata": {
        "id": "9HiBPnSXWCIn"
      },
      "source": [
        "# Conducting Web Scrape\n",
        "\n",
        "After defining our funcitons to our liking to extract the necessary information of all the news articles from our specified start and end dates:\n",
        "- category\n",
        "- title\n",
        "- date\n",
        "- href"
      ]
    },
    {
      "cell_type": "code",
      "execution_count": 5,
      "metadata": {
        "colab": {
          "background_save": true,
          "base_uri": "https://localhost:8080/"
        },
        "id": "H4dfzWJYP64t",
        "outputId": "42be676a-63a9-4f78-f546-520fea649d66"
      },
      "outputs": [
        {
          "name": "stdout",
          "output_type": "stream",
          "text": [
            " scraping news for date 2022-05-01"
          ]
        }
      ],
      "source": [
        "today = datetime.datetime.today().strftime('%Y-%m-%d')\n",
        "castillo = []\n",
        "dates_c = dates(start_date, end_date)\n",
        "for date in dates_c:\n",
        "    print(\"\\r\", f'scraping news for date {date}', end=\"\")\n",
        "    news_content = catching_news_date(date)\n",
        "    castillo += news_content\n",
        "df = pd.DataFrame(castillo)"
      ]
    },
    {
      "cell_type": "markdown",
      "metadata": {
        "id": "Oj_ou1-dWGpQ"
      },
      "source": [
        "# Forming a database and filtering articles by category\n",
        "\n",
        "Suprise, we actually initialized the dataframe of pandas in the last cell, but that was just for safe coding purposes. We wouldn't want to forget to save the data in a more secure data model after all that web scraping"
      ]
    },
    {
      "cell_type": "code",
      "execution_count": 6,
      "metadata": {
        "colab": {
          "base_uri": "https://localhost:8080/",
          "height": 224
        },
        "id": "wUPGGHC9RXWZ",
        "outputId": "d61475c9-c3a3-469d-d541-2db88d05d86e"
      },
      "outputs": [
        {
          "name": "stdout",
          "output_type": "stream",
          "text": [
            "# or rows 39502\n"
          ]
        },
        {
          "data": {
            "text/html": [
              "<div>\n",
              "<style scoped>\n",
              "    .dataframe tbody tr th:only-of-type {\n",
              "        vertical-align: middle;\n",
              "    }\n",
              "\n",
              "    .dataframe tbody tr th {\n",
              "        vertical-align: top;\n",
              "    }\n",
              "\n",
              "    .dataframe thead th {\n",
              "        text-align: right;\n",
              "    }\n",
              "</style>\n",
              "<table border=\"1\" class=\"dataframe\">\n",
              "  <thead>\n",
              "    <tr style=\"text-align: right;\">\n",
              "      <th></th>\n",
              "      <th>categoria</th>\n",
              "      <th>titulo</th>\n",
              "      <th>href</th>\n",
              "      <th>fecha</th>\n",
              "    </tr>\n",
              "  </thead>\n",
              "  <tbody>\n",
              "    <tr>\n",
              "      <th>0</th>\n",
              "      <td>Mundo</td>\n",
              "      <td>La vida \"verdaderamente dura\" de los habitante...</td>\n",
              "      <td>/mundo/vida-verdaderamente-dura-habitantes-teh...</td>\n",
              "      <td>2018-01-01</td>\n",
              "    </tr>\n",
              "    <tr>\n",
              "      <th>1</th>\n",
              "      <td>Mundo</td>\n",
              "      <td>Ecuador: Ley para fortalecer dolarización, en ...</td>\n",
              "      <td>/mundo/ecuador-ley-fortalecer-dolarizacion-vig...</td>\n",
              "      <td>2018-01-01</td>\n",
              "    </tr>\n",
              "    <tr>\n",
              "      <th>2</th>\n",
              "      <td>EEUU</td>\n",
              "      <td>Trump amenaza con cortar ayuda a Pakistán en s...</td>\n",
              "      <td>/mundo/eeuu/trump-amenaza-cortar-ayuda-pakista...</td>\n",
              "      <td>2018-01-01</td>\n",
              "    </tr>\n",
              "    <tr>\n",
              "      <th>3</th>\n",
              "      <td>Internacional</td>\n",
              "      <td>Hasta los pingüinos se resguardan del frío ext...</td>\n",
              "      <td>/mundo/internacional/pingueinos-resguardan-fri...</td>\n",
              "      <td>2018-01-01</td>\n",
              "    </tr>\n",
              "    <tr>\n",
              "      <th>4</th>\n",
              "      <td>Tendencias</td>\n",
              "      <td>\"Los Últimos Jedi\" supera los US$ 1,000 millon...</td>\n",
              "      <td>/tendencias/ultimos-jedi-supera-us-1-000-millo...</td>\n",
              "      <td>2018-01-01</td>\n",
              "    </tr>\n",
              "  </tbody>\n",
              "</table>\n",
              "</div>"
            ],
            "text/plain": [
              "       categoria                                             titulo  \\\n",
              "0          Mundo  La vida \"verdaderamente dura\" de los habitante...   \n",
              "1          Mundo  Ecuador: Ley para fortalecer dolarización, en ...   \n",
              "2           EEUU  Trump amenaza con cortar ayuda a Pakistán en s...   \n",
              "3  Internacional  Hasta los pingüinos se resguardan del frío ext...   \n",
              "4     Tendencias  \"Los Últimos Jedi\" supera los US$ 1,000 millon...   \n",
              "\n",
              "                                                href       fecha  \n",
              "0  /mundo/vida-verdaderamente-dura-habitantes-teh...  2018-01-01  \n",
              "1  /mundo/ecuador-ley-fortalecer-dolarizacion-vig...  2018-01-01  \n",
              "2  /mundo/eeuu/trump-amenaza-cortar-ayuda-pakista...  2018-01-01  \n",
              "3  /mundo/internacional/pingueinos-resguardan-fri...  2018-01-01  \n",
              "4  /tendencias/ultimos-jedi-supera-us-1-000-millo...  2018-01-01  "
            ]
          },
          "execution_count": 6,
          "metadata": {},
          "output_type": "execute_result"
        }
      ],
      "source": [
        "# a quick look of infomation\n",
        "print('# or rows',df.shape[0])\n",
        "\n",
        "df.head() "
      ]
    },
    {
      "cell_type": "code",
      "execution_count": 7,
      "metadata": {
        "colab": {
          "base_uri": "https://localhost:8080/"
        },
        "id": "CJk1QUzCRXge",
        "outputId": "9f970669-8adc-4ec4-9633-8d6e066330a2"
      },
      "outputs": [
        {
          "data": {
            "text/plain": [
              "array(['Mundo', 'EEUU', 'Internacional', 'Tendencias', 'Economía', 'Perú',\n",
              "       'Política', 'Gestión TV', 'Fotogalerías', 'Mercados', 'Tu Dinero',\n",
              "       'Empresas', 'Tecnología', 'Inmobiliarias', 'Management & Empleo',\n",
              "       '', 'Estilos', 'Consultorio de Negocios', 'Opinión', 'Moda',\n",
              "       'Publirreportaje', 'México', 'Finanzas Personales', 'Viajes',\n",
              "       'España', 'Lujo', 'Trabajo en Acción', '20 en Empleabilidad',\n",
              "       'Pregunta de hoy', 'Consultorio Tributario', 'CADE 2018',\n",
              "       'Hablemos más Simple', 'Con Las Cuentas Claras',\n",
              "       'Finanzas personales', 'Tecnología y Ciencia', 'Banca Lab',\n",
              "       'Empresa', 'Videos'], dtype=object)"
            ]
          },
          "execution_count": 7,
          "metadata": {},
          "output_type": "execute_result"
        }
      ],
      "source": [
        "# displaying all of the collected categoreis\n",
        "df['categoria'].unique()"
      ]
    },
    {
      "cell_type": "code",
      "execution_count": 9,
      "metadata": {
        "id": "8SI3xV-1RjUB"
      },
      "outputs": [],
      "source": [
        "# applying a filter to the dataframe to select only the rows whose category is listed below\n",
        "mask = ['Economía', 'Internacional', 'Empresas', 'Política', 'Mundo','Mercados']\n",
        "\n",
        "\n",
        "# filtering data\n",
        "df=df[df['categoria'].isin(mask)]\n",
        "df=df.reset_index().drop([\"index\"], axis=1)"
      ]
    },
    {
      "cell_type": "code",
      "execution_count": 11,
      "metadata": {},
      "outputs": [],
      "source": [
        "df.to_csv(\"../data/data_es.csv\")"
      ]
    },
    {
      "cell_type": "markdown",
      "metadata": {
        "id": "Gzkt__2DWSpF"
      },
      "source": [
        "# Translating Articles into English\n",
        "\n",
        "So, due to the largely english supported libraries for topic modeling and sentiment analysis. We are going to translate all of the titles. It should be noted that this could cause I significant bias in the results since we are preforming natural language processing in the unoriginal language."
      ]
    },
    {
      "cell_type": "code",
      "execution_count": 12,
      "metadata": {
        "id": "1Ek1zpgzdERD"
      },
      "outputs": [],
      "source": [
        "# init progress start\n",
        "count=0\n",
        "\n",
        "def displayCount():\n",
        "  \"\"\"\n",
        "  Description:\n",
        "  the function displayCount is a simplistic progress function\n",
        "  \"\"\"\n",
        "  global count\n",
        "  count=count+1\n",
        "  print(\"\\r\", 'translating title #',count, end='')"
      ]
    },
    {
      "cell_type": "code",
      "execution_count": 13,
      "metadata": {
        "id": "bc-e1jM8dWhS"
      },
      "outputs": [],
      "source": [
        "g=GoogleTranslator(source='auto', target='en')\n",
        "def translateTitle(title):\n",
        "  \"\"\"\n",
        "  Description:\n",
        "  translateTitle uses an instance of google translate to turn spanish titles into english titles\n",
        "\n",
        "  Parameters:\n",
        "  title (str) - a string of spanish words preferrably :)\n",
        "  \"\"\"\n",
        "  global g\n",
        "  displayCount()\n",
        "  return g.translate(title)"
      ]
    },
    {
      "cell_type": "code",
      "execution_count": 14,
      "metadata": {
        "colab": {
          "base_uri": "https://localhost:8080/"
        },
        "id": "6S8RZP2Aub2S",
        "outputId": "e33e5dbd-fc4d-4e1b-8187-16f71f5eaeb5"
      },
      "outputs": [
        {
          "name": "stdout",
          "output_type": "stream",
          "text": [
            " translating title # 26898"
          ]
        }
      ],
      "source": [
        "# # now we make a new column and process the titles, but this is not the optimal way to do so, other methods may be better, but this is garanteed to work accurately\n",
        "df['title']=df['titulo'].apply(translateTitle)\n",
        "\n",
        "# the optimimized method\n",
        "# df['title'] = g.translate_batch(batch=[text for text in df['titulo'].to_numpy()])"
      ]
    },
    {
      "cell_type": "code",
      "execution_count": 15,
      "metadata": {
        "colab": {
          "base_uri": "https://localhost:8080/",
          "height": 424
        },
        "id": "1HQrg9Lm58Ld",
        "outputId": "a6957ab2-33d6-4675-ece8-62b17df06fa0"
      },
      "outputs": [
        {
          "data": {
            "text/html": [
              "<div>\n",
              "<style scoped>\n",
              "    .dataframe tbody tr th:only-of-type {\n",
              "        vertical-align: middle;\n",
              "    }\n",
              "\n",
              "    .dataframe tbody tr th {\n",
              "        vertical-align: top;\n",
              "    }\n",
              "\n",
              "    .dataframe thead th {\n",
              "        text-align: right;\n",
              "    }\n",
              "</style>\n",
              "<table border=\"1\" class=\"dataframe\">\n",
              "  <thead>\n",
              "    <tr style=\"text-align: right;\">\n",
              "      <th></th>\n",
              "      <th>categoria</th>\n",
              "      <th>titulo</th>\n",
              "      <th>href</th>\n",
              "      <th>fecha</th>\n",
              "      <th>title</th>\n",
              "    </tr>\n",
              "  </thead>\n",
              "  <tbody>\n",
              "    <tr>\n",
              "      <th>0</th>\n",
              "      <td>Mundo</td>\n",
              "      <td>La vida \"verdaderamente dura\" de los habitante...</td>\n",
              "      <td>/mundo/vida-verdaderamente-dura-habitantes-teh...</td>\n",
              "      <td>2018-01-01</td>\n",
              "      <td>The \"truly hard\" life of the inhabitants of Te...</td>\n",
              "    </tr>\n",
              "    <tr>\n",
              "      <th>1</th>\n",
              "      <td>Mundo</td>\n",
              "      <td>Ecuador: Ley para fortalecer dolarización, en ...</td>\n",
              "      <td>/mundo/ecuador-ley-fortalecer-dolarizacion-vig...</td>\n",
              "      <td>2018-01-01</td>\n",
              "      <td>Ecuador: Law to strengthen dollarization, in f...</td>\n",
              "    </tr>\n",
              "    <tr>\n",
              "      <th>2</th>\n",
              "      <td>Internacional</td>\n",
              "      <td>Hasta los pingüinos se resguardan del frío ext...</td>\n",
              "      <td>/mundo/internacional/pingueinos-resguardan-fri...</td>\n",
              "      <td>2018-01-01</td>\n",
              "      <td>Even the penguins take shelter from the extrem...</td>\n",
              "    </tr>\n",
              "    <tr>\n",
              "      <th>3</th>\n",
              "      <td>Internacional</td>\n",
              "      <td>Los 25 años de la \"separación de tercipelo\" de...</td>\n",
              "      <td>/mundo/internacional/25-anos-separacion-tercip...</td>\n",
              "      <td>2018-01-01</td>\n",
              "      <td>The 25 years of the \"velvet separation\" of the...</td>\n",
              "    </tr>\n",
              "    <tr>\n",
              "      <th>4</th>\n",
              "      <td>Economía</td>\n",
              "      <td>Midis:Pensión 65 llega al 99.9% de ejecución p...</td>\n",
              "      <td>/economia/midis-pension-65-llega-al-99-9-ejecu...</td>\n",
              "      <td>2018-01-01</td>\n",
              "      <td>Midis: Pension 65 reaches 99.9% of budget exec...</td>\n",
              "    </tr>\n",
              "    <tr>\n",
              "      <th>...</th>\n",
              "      <td>...</td>\n",
              "      <td>...</td>\n",
              "      <td>...</td>\n",
              "      <td>...</td>\n",
              "      <td>...</td>\n",
              "    </tr>\n",
              "    <tr>\n",
              "      <th>26893</th>\n",
              "      <td>Economía</td>\n",
              "      <td>Se proyecta el ingreso a Tacna de 7,000 chilen...</td>\n",
              "      <td>/economia/se-proyecta-el-ingreso-a-tacna-de-70...</td>\n",
              "      <td>2022-05-01</td>\n",
              "      <td>The entry to Tacna of 7,000 Chileans is projec...</td>\n",
              "    </tr>\n",
              "    <tr>\n",
              "      <th>26894</th>\n",
              "      <td>Economía</td>\n",
              "      <td>Estos son las 15 ciudades que registraron una ...</td>\n",
              "      <td>/economia/estos-son-las-15-ciudades-que-regist...</td>\n",
              "      <td>2022-05-01</td>\n",
              "      <td>These are the 15 cities that registered an inf...</td>\n",
              "    </tr>\n",
              "    <tr>\n",
              "      <th>26895</th>\n",
              "      <td>Mundo</td>\n",
              "      <td>Gobierno boliviano decreta un incremento salar...</td>\n",
              "      <td>/mundo/gobierno-boliviano-decreta-un-increment...</td>\n",
              "      <td>2022-05-01</td>\n",
              "      <td>Bolivian government decrees a wage increase re...</td>\n",
              "    </tr>\n",
              "    <tr>\n",
              "      <th>26896</th>\n",
              "      <td>Mundo</td>\n",
              "      <td>Chile reabre mayoría de sus fronteras terrestr...</td>\n",
              "      <td>/mundo/chile-reabre-mayoria-de-sus-fronteras-t...</td>\n",
              "      <td>2022-05-01</td>\n",
              "      <td>Chile reopens most of its land borders to tour...</td>\n",
              "    </tr>\n",
              "    <tr>\n",
              "      <th>26897</th>\n",
              "      <td>Mundo</td>\n",
              "      <td>Brasileños se manifiestan en actos de apoyo a ...</td>\n",
              "      <td>/mundo/brasilenos-se-manifiestan-en-actos-de-a...</td>\n",
              "      <td>2022-05-01</td>\n",
              "      <td>Brazilians demonstrate in acts of support for ...</td>\n",
              "    </tr>\n",
              "  </tbody>\n",
              "</table>\n",
              "<p>26898 rows × 5 columns</p>\n",
              "</div>"
            ],
            "text/plain": [
              "           categoria                                             titulo  \\\n",
              "0              Mundo  La vida \"verdaderamente dura\" de los habitante...   \n",
              "1              Mundo  Ecuador: Ley para fortalecer dolarización, en ...   \n",
              "2      Internacional  Hasta los pingüinos se resguardan del frío ext...   \n",
              "3      Internacional  Los 25 años de la \"separación de tercipelo\" de...   \n",
              "4           Economía  Midis:Pensión 65 llega al 99.9% de ejecución p...   \n",
              "...              ...                                                ...   \n",
              "26893       Economía  Se proyecta el ingreso a Tacna de 7,000 chilen...   \n",
              "26894       Economía  Estos son las 15 ciudades que registraron una ...   \n",
              "26895          Mundo  Gobierno boliviano decreta un incremento salar...   \n",
              "26896          Mundo  Chile reabre mayoría de sus fronteras terrestr...   \n",
              "26897          Mundo  Brasileños se manifiestan en actos de apoyo a ...   \n",
              "\n",
              "                                                    href       fecha  \\\n",
              "0      /mundo/vida-verdaderamente-dura-habitantes-teh...  2018-01-01   \n",
              "1      /mundo/ecuador-ley-fortalecer-dolarizacion-vig...  2018-01-01   \n",
              "2      /mundo/internacional/pingueinos-resguardan-fri...  2018-01-01   \n",
              "3      /mundo/internacional/25-anos-separacion-tercip...  2018-01-01   \n",
              "4      /economia/midis-pension-65-llega-al-99-9-ejecu...  2018-01-01   \n",
              "...                                                  ...         ...   \n",
              "26893  /economia/se-proyecta-el-ingreso-a-tacna-de-70...  2022-05-01   \n",
              "26894  /economia/estos-son-las-15-ciudades-que-regist...  2022-05-01   \n",
              "26895  /mundo/gobierno-boliviano-decreta-un-increment...  2022-05-01   \n",
              "26896  /mundo/chile-reabre-mayoria-de-sus-fronteras-t...  2022-05-01   \n",
              "26897  /mundo/brasilenos-se-manifiestan-en-actos-de-a...  2022-05-01   \n",
              "\n",
              "                                                   title  \n",
              "0      The \"truly hard\" life of the inhabitants of Te...  \n",
              "1      Ecuador: Law to strengthen dollarization, in f...  \n",
              "2      Even the penguins take shelter from the extrem...  \n",
              "3      The 25 years of the \"velvet separation\" of the...  \n",
              "4      Midis: Pension 65 reaches 99.9% of budget exec...  \n",
              "...                                                  ...  \n",
              "26893  The entry to Tacna of 7,000 Chileans is projec...  \n",
              "26894  These are the 15 cities that registered an inf...  \n",
              "26895  Bolivian government decrees a wage increase re...  \n",
              "26896  Chile reopens most of its land borders to tour...  \n",
              "26897  Brazilians demonstrate in acts of support for ...  \n",
              "\n",
              "[26898 rows x 5 columns]"
            ]
          },
          "execution_count": 15,
          "metadata": {},
          "output_type": "execute_result"
        }
      ],
      "source": [
        "df"
      ]
    },
    {
      "cell_type": "markdown",
      "metadata": {
        "id": "BKLPEEa1WWSF"
      },
      "source": [
        "# Saving the dataframe for Analaysis\n",
        "\n",
        "Once the translation of all the titles is finished, you will have completed all the necessary content to save the data into the project repository and continue onto the analysis.\n",
        "\n",
        "But do not leave before you save, that would suck"
      ]
    },
    {
      "cell_type": "code",
      "execution_count": 17,
      "metadata": {
        "id": "JpRQzBSVR_36"
      },
      "outputs": [],
      "source": [
        "df.to_csv(\"../data/data_en.csv\")"
      ]
    }
  ],
  "metadata": {
    "colab": {
      "name": "ScrapeAndProcess.ipynb",
      "provenance": []
    },
    "kernelspec": {
      "display_name": "Python 3.9.7 ('base')",
      "language": "python",
      "name": "python3"
    },
    "language_info": {
      "codemirror_mode": {
        "name": "ipython",
        "version": 3
      },
      "file_extension": ".py",
      "mimetype": "text/x-python",
      "name": "python",
      "nbconvert_exporter": "python",
      "pygments_lexer": "ipython3",
      "version": "3.9.7"
    },
    "vscode": {
      "interpreter": {
        "hash": "1cca9558bc5ad879ec93cc030b157d75f18267527c60932cecaace349eef54dd"
      }
    }
  },
  "nbformat": 4,
  "nbformat_minor": 0
}
