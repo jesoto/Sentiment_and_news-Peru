{
  "cells": [
    {
      "cell_type": "code",
      "execution_count": null,
      "metadata": {
        "colab": {
          "base_uri": "https://localhost:8080/"
        },
        "id": "JTfi4KUzUxFh",
        "outputId": "644aff14-3b25-45da-e47c-5a8a3e534313"
      },
      "outputs": [
        {
          "name": "stdout",
          "output_type": "stream",
          "text": [
            "Drive already mounted at /content/drive/; to attempt to forcibly remount, call drive.mount(\"/content/drive/\", force_remount=True).\n"
          ]
        }
      ],
      "source": [
        "from google.colab import drive\n",
        "drive.mount('/content/drive/')\n",
        "project_data_path='/content/drive/MyDrive/project_peruvian_news/data'"
      ]
    },
    {
      "cell_type": "markdown",
      "metadata": {
        "id": "uiJelEJXVY81"
      },
      "source": [
        "# Notebook Abstract:\n",
        "\n",
        "Note: This is one of two notebooks provided for our project. This notebook, must be completed before moving on to the second \"Analysis.ipynb\" notebook\n",
        "\n",
        "In the following notebook, we will be showcasing the data aggregation method we utilized in our proejct. We utilized the BeautifulSoup library to collect the title, category, date, and href of every news article in our news website (https://gestion.pe) between two specified start and end dates.\n",
        "\n",
        "Upon aggregation, we also incorperated a translation processor to change the natively spanish titles to english for topic modeling and sentiment analysis."
      ]
    },
    {
      "cell_type": "markdown",
      "metadata": {
        "id": "c3kxDvt7U71G"
      },
      "source": [
        "# Imports\n",
        "\n",
        "Here is just a super large cell holding all of the neccessary imports that our project will use for:\n",
        "\n",
        "- scraping websites\n",
        "- creating dataframes\n",
        "- filtering data\n",
        "- processing translations\n"
      ]
    },
    {
      "cell_type": "code",
      "execution_count": null,
      "metadata": {
        "colab": {
          "base_uri": "https://localhost:8080/"
        },
        "id": "sNGa3tmWPmfn",
        "outputId": "1708b5fd-6a98-4bc4-8282-95f8a04adb94"
      },
      "outputs": [
        {
          "name": "stdout",
          "output_type": "stream",
          "text": [
            "Requirement already satisfied: deep-translator in /usr/local/lib/python3.7/dist-packages (1.8.1)\n",
            "Requirement already satisfied: beautifulsoup4<5.0.0,>=4.9.1 in /usr/local/lib/python3.7/dist-packages (from deep-translator) (4.10.0)\n",
            "Requirement already satisfied: requests<3.0.0,>=2.23.0 in /usr/local/lib/python3.7/dist-packages (from deep-translator) (2.23.0)\n",
            "Requirement already satisfied: soupsieve>1.2 in /usr/local/lib/python3.7/dist-packages (from beautifulsoup4<5.0.0,>=4.9.1->deep-translator) (2.3.1)\n",
            "Requirement already satisfied: chardet<4,>=3.0.2 in /usr/local/lib/python3.7/dist-packages (from requests<3.0.0,>=2.23.0->deep-translator) (3.0.4)\n",
            "Requirement already satisfied: urllib3!=1.25.0,!=1.25.1,<1.26,>=1.21.1 in /usr/local/lib/python3.7/dist-packages (from requests<3.0.0,>=2.23.0->deep-translator) (1.24.3)\n",
            "Requirement already satisfied: idna<3,>=2.5 in /usr/local/lib/python3.7/dist-packages (from requests<3.0.0,>=2.23.0->deep-translator) (2.10)\n",
            "Requirement already satisfied: certifi>=2017.4.17 in /usr/local/lib/python3.7/dist-packages (from requests<3.0.0,>=2.23.0->deep-translator) (2021.10.8)\n"
          ]
        }
      ],
      "source": [
        "import os\n",
        "import datetime\n",
        "import json\n",
        "import bs4\n",
        "import pandas as pd\n",
        "from bs4 import BeautifulSoup\n",
        "from urllib.request import urlopen, Request\n",
        "!pip install deep-translator\n",
        "from deep_translator import GoogleTranslator"
      ]
    },
    {
      "cell_type": "markdown",
      "metadata": {
        "id": "DrfKYamiVjDh"
      },
      "source": [
        "# Initializing the scaping href\n",
        "\n",
        "Here is subjectively the most important part of the entire project. Here we initialize the locaiton of where our data is coming from, and from what dates we would like to collect the information from"
      ]
    },
    {
      "cell_type": "code",
      "execution_count": null,
      "metadata": {
        "id": "KCRAH_1cPuU0"
      },
      "outputs": [],
      "source": [
        "# Base href for we scaping\n",
        "url_base = \"https://gestion.pe\"\n",
        "# start and end date for web scaping\n",
        "start_date = '2020-01-1'\n",
        "end_date = '2021-12-31'\n"
      ]
    },
    {
      "cell_type": "markdown",
      "metadata": {
        "id": "8ABOyUEAV_pG"
      },
      "source": [
        "# Defining functions for the purpose of Web Scraping\n",
        "\n",
        "In this section of the notebook we will define a colleciton of different functions to display our use case of web scraping with beautiful soup"
      ]
    },
    {
      "cell_type": "code",
      "execution_count": null,
      "metadata": {
        "id": "yLo95KKBPvrK"
      },
      "outputs": [],
      "source": [
        "def dates(begin, end):\n",
        "  \"\"\"\n",
        "  Description: \n",
        "  The dates funciton returns a list of datetime objects for every day between the begin and end string parameters\n",
        "\n",
        "  Parameters:\n",
        "  begin (str) - the first day in the list of dates format('%Y-%m-%d')\n",
        "  end (str) - the last day in the list of dates format('%Y-%m-%d')\n",
        "  \"\"\"\n",
        "  start = datetime.datetime.strptime(begin, '%Y-%m-%d')\n",
        "  final = datetime.datetime.strptime(end, '%Y-%m-%d')\n",
        "  step = datetime.timedelta(days=1)\n",
        "  vector = []\n",
        "  while(start <= final):\n",
        "      vector.append(start.date())\n",
        "      start += step\n",
        "  new_vector = [date_obj.strftime('%Y-%m-%d') for date_obj in vector]\n",
        "  return  new_vector"
      ]
    },
    {
      "cell_type": "code",
      "execution_count": null,
      "metadata": {
        "id": "WDt7Yq-3PxBo"
      },
      "outputs": [],
      "source": [
        "def catching_news_date(date):\n",
        "  \"\"\"\n",
        "  Description: \n",
        "  The catching_news_date funciton returns a list of json objects for every news article created on the parameter date\n",
        "\n",
        "  Parameters:\n",
        "  date (Datetime) - the date that the web scraper will collect news article titles from\n",
        "  \"\"\"\n",
        "  try:\n",
        "    global url_base\n",
        "    url = f\"{url_base}/archivo/todas/{date}/\"\n",
        "    html = urlopen(url)\n",
        "    soup = BeautifulSoup(html, 'html.parser')\n",
        "    news = []\n",
        "    for div in soup.find('div', {'role':'main'}).div.find_all('div', recursive=False):\n",
        "        try:\n",
        "            a = div.find('a', {'class': 'story-item__section text-sm text-black md:mb-15'})\n",
        "            category = a.text\n",
        "            title = div.h2.a.text\n",
        "            href = div.h2.a['href']\n",
        "            # print({'categoria': category, 'titulo': title, 'href': href, 'fecha': date})\n",
        "            news.append({'categoria': category, 'titulo': title, 'href': href, 'fecha': date})\n",
        "        except:\n",
        "            continue\n",
        "    # print(news)\n",
        "    return news\n",
        "         \n",
        "  except:\n",
        "    print('error with', url)\n",
        "    return []\n",
        "  \n",
        "  "
      ]
    },
    {
      "cell_type": "markdown",
      "metadata": {
        "id": "9HiBPnSXWCIn"
      },
      "source": [
        "# Conducting Web Scrape\n",
        "\n",
        "After defining our funcitons to our liking to extract the necessary information of all the news articles from our specified start and end dates:\n",
        "- category\n",
        "- title\n",
        "- date\n",
        "- href"
      ]
    },
    {
      "cell_type": "code",
      "execution_count": null,
      "metadata": {
        "colab": {
          "background_save": true,
          "base_uri": "https://localhost:8080/"
        },
        "id": "H4dfzWJYP64t",
        "outputId": "42be676a-63a9-4f78-f546-520fea649d66"
      },
      "outputs": [
        {
          "name": "stdout",
          "output_type": "stream",
          "text": [
            " scraping news for date 2021-12-31"
          ]
        }
      ],
      "source": [
        "today = datetime.datetime.today().strftime('%Y-%m-%d')\n",
        "castillo = []\n",
        "dates_c = dates(start_date, end_date)\n",
        "for date in dates_c:\n",
        "    print(\"\\r\", f'scraping news for date {date}', end=\"\")\n",
        "    news_content = catching_news_date(date)\n",
        "    castillo += news_content\n",
        "df = pd.DataFrame(castillo)"
      ]
    },
    {
      "cell_type": "markdown",
      "metadata": {
        "id": "Oj_ou1-dWGpQ"
      },
      "source": [
        "# Forming a database and filtering articles by category\n",
        "\n",
        "Suprise, we actually initialized the dataframe of pandas in the last cell, but that was just for safe coding purposes. We wouldn't want to forget to save the data in a more secure data model after all that web scraping"
      ]
    },
    {
      "cell_type": "code",
      "execution_count": null,
      "metadata": {
        "colab": {
          "base_uri": "https://localhost:8080/",
          "height": 224
        },
        "id": "wUPGGHC9RXWZ",
        "outputId": "d61475c9-c3a3-469d-d541-2db88d05d86e"
      },
      "outputs": [
        {
          "name": "stdout",
          "output_type": "stream",
          "text": [
            "# or rows 18275\n"
          ]
        },
        {
          "data": {
            "text/html": [
              "\n",
              "  <div id=\"df-dde599de-c55c-4de3-a832-37b19167227b\">\n",
              "    <div class=\"colab-df-container\">\n",
              "      <div>\n",
              "<style scoped>\n",
              "    .dataframe tbody tr th:only-of-type {\n",
              "        vertical-align: middle;\n",
              "    }\n",
              "\n",
              "    .dataframe tbody tr th {\n",
              "        vertical-align: top;\n",
              "    }\n",
              "\n",
              "    .dataframe thead th {\n",
              "        text-align: right;\n",
              "    }\n",
              "</style>\n",
              "<table border=\"1\" class=\"dataframe\">\n",
              "  <thead>\n",
              "    <tr style=\"text-align: right;\">\n",
              "      <th></th>\n",
              "      <th>categoria</th>\n",
              "      <th>titulo</th>\n",
              "      <th>href</th>\n",
              "      <th>fecha</th>\n",
              "    </tr>\n",
              "  </thead>\n",
              "  <tbody>\n",
              "    <tr>\n",
              "      <th>0</th>\n",
              "      <td>Economía</td>\n",
              "      <td>David Stern, el hombre que transformó la NBA e...</td>\n",
              "      <td>/economia/david-stern-el-hombre-que-transformo...</td>\n",
              "      <td>2020-01-01</td>\n",
              "    </tr>\n",
              "    <tr>\n",
              "      <th>1</th>\n",
              "      <td>Perú</td>\n",
              "      <td>Elecciones 2020: Conoce el local de votación p...</td>\n",
              "      <td>/peru/onpe-lugar-de-votacion-mesa-de-votacion-...</td>\n",
              "      <td>2020-01-01</td>\n",
              "    </tr>\n",
              "    <tr>\n",
              "      <th>2</th>\n",
              "      <td>Internacional</td>\n",
              "      <td>Cómo un país con vinos desconocidos conquistó ...</td>\n",
              "      <td>/mundo/internacional/como-un-pais-con-vinos-de...</td>\n",
              "      <td>2020-01-01</td>\n",
              "    </tr>\n",
              "    <tr>\n",
              "      <th>3</th>\n",
              "      <td>EEUU</td>\n",
              "      <td>Manifestantes pro-Irán levantan campamento ant...</td>\n",
              "      <td>/mundo/eeuu/manifestantes-pro-iran-levantan-ca...</td>\n",
              "      <td>2020-01-01</td>\n",
              "    </tr>\n",
              "    <tr>\n",
              "      <th>4</th>\n",
              "      <td>Tendencias</td>\n",
              "      <td>Una mujer asume por primera vez la subadminist...</td>\n",
              "      <td>/tendencias/una-mujer-asume-por-primera-vez-la...</td>\n",
              "      <td>2020-01-01</td>\n",
              "    </tr>\n",
              "  </tbody>\n",
              "</table>\n",
              "</div>\n",
              "      <button class=\"colab-df-convert\" onclick=\"convertToInteractive('df-dde599de-c55c-4de3-a832-37b19167227b')\"\n",
              "              title=\"Convert this dataframe to an interactive table.\"\n",
              "              style=\"display:none;\">\n",
              "        \n",
              "  <svg xmlns=\"http://www.w3.org/2000/svg\" height=\"24px\"viewBox=\"0 0 24 24\"\n",
              "       width=\"24px\">\n",
              "    <path d=\"M0 0h24v24H0V0z\" fill=\"none\"/>\n",
              "    <path d=\"M18.56 5.44l.94 2.06.94-2.06 2.06-.94-2.06-.94-.94-2.06-.94 2.06-2.06.94zm-11 1L8.5 8.5l.94-2.06 2.06-.94-2.06-.94L8.5 2.5l-.94 2.06-2.06.94zm10 10l.94 2.06.94-2.06 2.06-.94-2.06-.94-.94-2.06-.94 2.06-2.06.94z\"/><path d=\"M17.41 7.96l-1.37-1.37c-.4-.4-.92-.59-1.43-.59-.52 0-1.04.2-1.43.59L10.3 9.45l-7.72 7.72c-.78.78-.78 2.05 0 2.83L4 21.41c.39.39.9.59 1.41.59.51 0 1.02-.2 1.41-.59l7.78-7.78 2.81-2.81c.8-.78.8-2.07 0-2.86zM5.41 20L4 18.59l7.72-7.72 1.47 1.35L5.41 20z\"/>\n",
              "  </svg>\n",
              "      </button>\n",
              "      \n",
              "  <style>\n",
              "    .colab-df-container {\n",
              "      display:flex;\n",
              "      flex-wrap:wrap;\n",
              "      gap: 12px;\n",
              "    }\n",
              "\n",
              "    .colab-df-convert {\n",
              "      background-color: #E8F0FE;\n",
              "      border: none;\n",
              "      border-radius: 50%;\n",
              "      cursor: pointer;\n",
              "      display: none;\n",
              "      fill: #1967D2;\n",
              "      height: 32px;\n",
              "      padding: 0 0 0 0;\n",
              "      width: 32px;\n",
              "    }\n",
              "\n",
              "    .colab-df-convert:hover {\n",
              "      background-color: #E2EBFA;\n",
              "      box-shadow: 0px 1px 2px rgba(60, 64, 67, 0.3), 0px 1px 3px 1px rgba(60, 64, 67, 0.15);\n",
              "      fill: #174EA6;\n",
              "    }\n",
              "\n",
              "    [theme=dark] .colab-df-convert {\n",
              "      background-color: #3B4455;\n",
              "      fill: #D2E3FC;\n",
              "    }\n",
              "\n",
              "    [theme=dark] .colab-df-convert:hover {\n",
              "      background-color: #434B5C;\n",
              "      box-shadow: 0px 1px 3px 1px rgba(0, 0, 0, 0.15);\n",
              "      filter: drop-shadow(0px 1px 2px rgba(0, 0, 0, 0.3));\n",
              "      fill: #FFFFFF;\n",
              "    }\n",
              "  </style>\n",
              "\n",
              "      <script>\n",
              "        const buttonEl =\n",
              "          document.querySelector('#df-dde599de-c55c-4de3-a832-37b19167227b button.colab-df-convert');\n",
              "        buttonEl.style.display =\n",
              "          google.colab.kernel.accessAllowed ? 'block' : 'none';\n",
              "\n",
              "        async function convertToInteractive(key) {\n",
              "          const element = document.querySelector('#df-dde599de-c55c-4de3-a832-37b19167227b');\n",
              "          const dataTable =\n",
              "            await google.colab.kernel.invokeFunction('convertToInteractive',\n",
              "                                                     [key], {});\n",
              "          if (!dataTable) return;\n",
              "\n",
              "          const docLinkHtml = 'Like what you see? Visit the ' +\n",
              "            '<a target=\"_blank\" href=https://colab.research.google.com/notebooks/data_table.ipynb>data table notebook</a>'\n",
              "            + ' to learn more about interactive tables.';\n",
              "          element.innerHTML = '';\n",
              "          dataTable['output_type'] = 'display_data';\n",
              "          await google.colab.output.renderOutput(dataTable, element);\n",
              "          const docLink = document.createElement('div');\n",
              "          docLink.innerHTML = docLinkHtml;\n",
              "          element.appendChild(docLink);\n",
              "        }\n",
              "      </script>\n",
              "    </div>\n",
              "  </div>\n",
              "  "
            ],
            "text/plain": [
              "       categoria                                             titulo  \\\n",
              "0       Economía  David Stern, el hombre que transformó la NBA e...   \n",
              "1           Perú  Elecciones 2020: Conoce el local de votación p...   \n",
              "2  Internacional  Cómo un país con vinos desconocidos conquistó ...   \n",
              "3           EEUU  Manifestantes pro-Irán levantan campamento ant...   \n",
              "4     Tendencias  Una mujer asume por primera vez la subadminist...   \n",
              "\n",
              "                                                href       fecha  \n",
              "0  /economia/david-stern-el-hombre-que-transformo...  2020-01-01  \n",
              "1  /peru/onpe-lugar-de-votacion-mesa-de-votacion-...  2020-01-01  \n",
              "2  /mundo/internacional/como-un-pais-con-vinos-de...  2020-01-01  \n",
              "3  /mundo/eeuu/manifestantes-pro-iran-levantan-ca...  2020-01-01  \n",
              "4  /tendencias/una-mujer-asume-por-primera-vez-la...  2020-01-01  "
            ]
          },
          "execution_count": 7,
          "metadata": {},
          "output_type": "execute_result"
        }
      ],
      "source": [
        "# a quick look of infomation\n",
        "print('# or rows',df.shape[0])\n",
        "\n",
        "df.head() "
      ]
    },
    {
      "cell_type": "code",
      "execution_count": null,
      "metadata": {
        "colab": {
          "base_uri": "https://localhost:8080/"
        },
        "id": "CJk1QUzCRXge",
        "outputId": "9f970669-8adc-4ec4-9633-8d6e066330a2"
      },
      "outputs": [
        {
          "data": {
            "text/plain": [
              "array(['Economía', 'Perú', 'Internacional', 'EEUU', 'Tendencias',\n",
              "       'Empresas', 'Política', 'Mundo', 'Management & Empleo',\n",
              "       'Finanzas Personales', 'Tu Dinero', 'Inmobiliarias', 'Gestión TV',\n",
              "       'Mercados', 'Fotogalerías', 'Consultorio de Negocios',\n",
              "       'Tecnología', 'Opinión', 'Estilos', 'Publirreportaje', 'Viajes',\n",
              "       'Lujo', 'Consultorio Tributario', 'Con Las Cuentas Claras',\n",
              "       'México', 'España', 'Hablemos más Simple', 'Moda',\n",
              "       '20 en Empleabilidad', 'Pregunta de hoy', 'Finanzas personales',\n",
              "       'Tecnología y Ciencia', 'Banca Lab', ''], dtype=object)"
            ]
          },
          "execution_count": 8,
          "metadata": {},
          "output_type": "execute_result"
        }
      ],
      "source": [
        "# displaying all of the collected categoreis\n",
        "df['categoria'].unique()"
      ]
    },
    {
      "cell_type": "code",
      "execution_count": null,
      "metadata": {
        "id": "8SI3xV-1RjUB"
      },
      "outputs": [],
      "source": [
        "# applying a filter to the dataframe to select only the rows whose category is listed below\n",
        "mask = ['Economía', 'Internacional', 'Empresas', 'Política', 'Mundo','Mercados']\n",
        "\n",
        "\n",
        "# filtering data\n",
        "df=df[df['categoria'].isin(mask)]\n",
        "df=df.reset_index().drop([\"index\"], axis=1)"
      ]
    },
    {
      "cell_type": "markdown",
      "metadata": {
        "id": "Gzkt__2DWSpF"
      },
      "source": [
        "# Translating Articles into English\n",
        "\n",
        "So, due to the largely english supported libraries for topic modeling and sentiment analysis. We are going to translate all of the titles. It should be noted that this could cause I significant bias in the results since we are preforming natural language processing in the unoriginal language."
      ]
    },
    {
      "cell_type": "code",
      "execution_count": null,
      "metadata": {
        "id": "1Ek1zpgzdERD"
      },
      "outputs": [],
      "source": [
        "# init progress start\n",
        "count=0\n",
        "\n",
        "def displayCount():\n",
        "  \"\"\"\n",
        "  Description:\n",
        "  the function displayCount is a simplistic progress function\n",
        "  \"\"\"\n",
        "  global count\n",
        "  count=count+1\n",
        "  print(\"\\r\", 'translating title #',count, end='')"
      ]
    },
    {
      "cell_type": "code",
      "execution_count": null,
      "metadata": {
        "id": "bc-e1jM8dWhS"
      },
      "outputs": [],
      "source": [
        "g=GoogleTranslator(source='auto', target='en')\n",
        "def translateTitle(title):\n",
        "  \"\"\"\n",
        "  Description:\n",
        "  translateTitle uses an instance of google translate to turn spanish titles into english titles\n",
        "\n",
        "  Parameters:\n",
        "  title (str) - a string of spanish words preferrably :)\n",
        "  \"\"\"\n",
        "  global g\n",
        "  displayCount()\n",
        "  return g.translate(title)"
      ]
    },
    {
      "cell_type": "code",
      "execution_count": null,
      "metadata": {
        "colab": {
          "base_uri": "https://localhost:8080/"
        },
        "id": "6S8RZP2Aub2S",
        "outputId": "e33e5dbd-fc4d-4e1b-8187-16f71f5eaeb5"
      },
      "outputs": [
        {
          "name": "stdout",
          "output_type": "stream",
          "text": [
            " translating title # 11927"
          ]
        }
      ],
      "source": [
        "# # now we make a new column and process the titles, but this is not the optimal way to do so, other methods may be better, but this is garanteed to work accurately\n",
        "df['title']=df['titulo'].apply(translateTitle)\n",
        "\n",
        "# the optimimized method\n",
        "# df['title'] = g.translate_batch(batch=[text for text in df['titulo'].to_numpy()])"
      ]
    },
    {
      "cell_type": "code",
      "execution_count": null,
      "metadata": {
        "colab": {
          "base_uri": "https://localhost:8080/",
          "height": 424
        },
        "id": "1HQrg9Lm58Ld",
        "outputId": "a6957ab2-33d6-4675-ece8-62b17df06fa0"
      },
      "outputs": [
        {
          "data": {
            "text/html": [
              "\n",
              "  <div id=\"df-a4914b08-d926-408b-8dd4-c09ed1440565\">\n",
              "    <div class=\"colab-df-container\">\n",
              "      <div>\n",
              "<style scoped>\n",
              "    .dataframe tbody tr th:only-of-type {\n",
              "        vertical-align: middle;\n",
              "    }\n",
              "\n",
              "    .dataframe tbody tr th {\n",
              "        vertical-align: top;\n",
              "    }\n",
              "\n",
              "    .dataframe thead th {\n",
              "        text-align: right;\n",
              "    }\n",
              "</style>\n",
              "<table border=\"1\" class=\"dataframe\">\n",
              "  <thead>\n",
              "    <tr style=\"text-align: right;\">\n",
              "      <th></th>\n",
              "      <th>categoria</th>\n",
              "      <th>titulo</th>\n",
              "      <th>href</th>\n",
              "      <th>fecha</th>\n",
              "      <th>title</th>\n",
              "    </tr>\n",
              "  </thead>\n",
              "  <tbody>\n",
              "    <tr>\n",
              "      <th>0</th>\n",
              "      <td>Economía</td>\n",
              "      <td>David Stern, el hombre que transformó la NBA e...</td>\n",
              "      <td>/economia/david-stern-el-hombre-que-transformo...</td>\n",
              "      <td>2020-01-01</td>\n",
              "      <td>David Stern, the man who transformed the NBA i...</td>\n",
              "    </tr>\n",
              "    <tr>\n",
              "      <th>1</th>\n",
              "      <td>Internacional</td>\n",
              "      <td>Cómo un país con vinos desconocidos conquistó ...</td>\n",
              "      <td>/mundo/internacional/como-un-pais-con-vinos-de...</td>\n",
              "      <td>2020-01-01</td>\n",
              "      <td>How a country with unknown wines conquered New...</td>\n",
              "    </tr>\n",
              "    <tr>\n",
              "      <th>2</th>\n",
              "      <td>Empresas</td>\n",
              "      <td>Hombre más rico de Asia reta a Amazon con nuev...</td>\n",
              "      <td>/economia/empresas/hombre-mas-rico-de-asia-ret...</td>\n",
              "      <td>2020-01-01</td>\n",
              "      <td>Asia's richest man challenges Amazon with new ...</td>\n",
              "    </tr>\n",
              "    <tr>\n",
              "      <th>3</th>\n",
              "      <td>Empresas</td>\n",
              "      <td>Italia inicia el camino para suspender las con...</td>\n",
              "      <td>/economia/empresas/italia-inicia-el-camino-par...</td>\n",
              "      <td>2020-01-01</td>\n",
              "      <td>Italy begins the path to suspend concessions t...</td>\n",
              "    </tr>\n",
              "    <tr>\n",
              "      <th>4</th>\n",
              "      <td>Política</td>\n",
              "      <td>Elecciones 2020: JNE confirma dos candidaturas...</td>\n",
              "      <td>/peru/politica/elecciones-2020-jne-confirma-do...</td>\n",
              "      <td>2020-01-01</td>\n",
              "      <td>Elections 2020: JNE confirms two candidacies a...</td>\n",
              "    </tr>\n",
              "    <tr>\n",
              "      <th>...</th>\n",
              "      <td>...</td>\n",
              "      <td>...</td>\n",
              "      <td>...</td>\n",
              "      <td>...</td>\n",
              "      <td>...</td>\n",
              "    </tr>\n",
              "    <tr>\n",
              "      <th>11922</th>\n",
              "      <td>Política</td>\n",
              "      <td>Comisión del Congreso citará al alcalde de Lim...</td>\n",
              "      <td>/peru/politica/incendio-en-mesa-redonda-congre...</td>\n",
              "      <td>2021-12-31</td>\n",
              "      <td>Congress Commission will summon the mayor of L...</td>\n",
              "    </tr>\n",
              "    <tr>\n",
              "      <th>11923</th>\n",
              "      <td>Mundo</td>\n",
              "      <td>Dakar echa raíces en el desierto de Arabia Sau...</td>\n",
              "      <td>/mundo/dakar-echa-raices-en-el-desierto-de-ara...</td>\n",
              "      <td>2021-12-31</td>\n",
              "      <td>Dakar takes root in the desert of Saudi Arabia...</td>\n",
              "    </tr>\n",
              "    <tr>\n",
              "      <th>11924</th>\n",
              "      <td>Mundo</td>\n",
              "      <td>Ómicron crece en Latinoamérica, países descart...</td>\n",
              "      <td>/mundo/covid-ops-omicron-crece-en-latinoameric...</td>\n",
              "      <td>2021-12-31</td>\n",
              "      <td>Ómicron grows in Latin America, countries rule...</td>\n",
              "    </tr>\n",
              "    <tr>\n",
              "      <th>11925</th>\n",
              "      <td>Economía</td>\n",
              "      <td>MEF flexibiliza deducción de gastos para el pa...</td>\n",
              "      <td>/economia/mef-flexibiliza-deduccion-de-gastos-...</td>\n",
              "      <td>2021-12-31</td>\n",
              "      <td>MEF makes deduction of expenses for the paymen...</td>\n",
              "    </tr>\n",
              "    <tr>\n",
              "      <th>11926</th>\n",
              "      <td>Política</td>\n",
              "      <td>Pedro Castillo: una de las metas para el 2022 ...</td>\n",
              "      <td>/peru/politica/pedro-castillo-una-de-las-metas...</td>\n",
              "      <td>2021-12-31</td>\n",
              "      <td>Pedro Castillo: one of the goals for 2022 is t...</td>\n",
              "    </tr>\n",
              "  </tbody>\n",
              "</table>\n",
              "<p>11927 rows × 5 columns</p>\n",
              "</div>\n",
              "      <button class=\"colab-df-convert\" onclick=\"convertToInteractive('df-a4914b08-d926-408b-8dd4-c09ed1440565')\"\n",
              "              title=\"Convert this dataframe to an interactive table.\"\n",
              "              style=\"display:none;\">\n",
              "        \n",
              "  <svg xmlns=\"http://www.w3.org/2000/svg\" height=\"24px\"viewBox=\"0 0 24 24\"\n",
              "       width=\"24px\">\n",
              "    <path d=\"M0 0h24v24H0V0z\" fill=\"none\"/>\n",
              "    <path d=\"M18.56 5.44l.94 2.06.94-2.06 2.06-.94-2.06-.94-.94-2.06-.94 2.06-2.06.94zm-11 1L8.5 8.5l.94-2.06 2.06-.94-2.06-.94L8.5 2.5l-.94 2.06-2.06.94zm10 10l.94 2.06.94-2.06 2.06-.94-2.06-.94-.94-2.06-.94 2.06-2.06.94z\"/><path d=\"M17.41 7.96l-1.37-1.37c-.4-.4-.92-.59-1.43-.59-.52 0-1.04.2-1.43.59L10.3 9.45l-7.72 7.72c-.78.78-.78 2.05 0 2.83L4 21.41c.39.39.9.59 1.41.59.51 0 1.02-.2 1.41-.59l7.78-7.78 2.81-2.81c.8-.78.8-2.07 0-2.86zM5.41 20L4 18.59l7.72-7.72 1.47 1.35L5.41 20z\"/>\n",
              "  </svg>\n",
              "      </button>\n",
              "      \n",
              "  <style>\n",
              "    .colab-df-container {\n",
              "      display:flex;\n",
              "      flex-wrap:wrap;\n",
              "      gap: 12px;\n",
              "    }\n",
              "\n",
              "    .colab-df-convert {\n",
              "      background-color: #E8F0FE;\n",
              "      border: none;\n",
              "      border-radius: 50%;\n",
              "      cursor: pointer;\n",
              "      display: none;\n",
              "      fill: #1967D2;\n",
              "      height: 32px;\n",
              "      padding: 0 0 0 0;\n",
              "      width: 32px;\n",
              "    }\n",
              "\n",
              "    .colab-df-convert:hover {\n",
              "      background-color: #E2EBFA;\n",
              "      box-shadow: 0px 1px 2px rgba(60, 64, 67, 0.3), 0px 1px 3px 1px rgba(60, 64, 67, 0.15);\n",
              "      fill: #174EA6;\n",
              "    }\n",
              "\n",
              "    [theme=dark] .colab-df-convert {\n",
              "      background-color: #3B4455;\n",
              "      fill: #D2E3FC;\n",
              "    }\n",
              "\n",
              "    [theme=dark] .colab-df-convert:hover {\n",
              "      background-color: #434B5C;\n",
              "      box-shadow: 0px 1px 3px 1px rgba(0, 0, 0, 0.15);\n",
              "      filter: drop-shadow(0px 1px 2px rgba(0, 0, 0, 0.3));\n",
              "      fill: #FFFFFF;\n",
              "    }\n",
              "  </style>\n",
              "\n",
              "      <script>\n",
              "        const buttonEl =\n",
              "          document.querySelector('#df-a4914b08-d926-408b-8dd4-c09ed1440565 button.colab-df-convert');\n",
              "        buttonEl.style.display =\n",
              "          google.colab.kernel.accessAllowed ? 'block' : 'none';\n",
              "\n",
              "        async function convertToInteractive(key) {\n",
              "          const element = document.querySelector('#df-a4914b08-d926-408b-8dd4-c09ed1440565');\n",
              "          const dataTable =\n",
              "            await google.colab.kernel.invokeFunction('convertToInteractive',\n",
              "                                                     [key], {});\n",
              "          if (!dataTable) return;\n",
              "\n",
              "          const docLinkHtml = 'Like what you see? Visit the ' +\n",
              "            '<a target=\"_blank\" href=https://colab.research.google.com/notebooks/data_table.ipynb>data table notebook</a>'\n",
              "            + ' to learn more about interactive tables.';\n",
              "          element.innerHTML = '';\n",
              "          dataTable['output_type'] = 'display_data';\n",
              "          await google.colab.output.renderOutput(dataTable, element);\n",
              "          const docLink = document.createElement('div');\n",
              "          docLink.innerHTML = docLinkHtml;\n",
              "          element.appendChild(docLink);\n",
              "        }\n",
              "      </script>\n",
              "    </div>\n",
              "  </div>\n",
              "  "
            ],
            "text/plain": [
              "           categoria                                             titulo  \\\n",
              "0           Economía  David Stern, el hombre que transformó la NBA e...   \n",
              "1      Internacional  Cómo un país con vinos desconocidos conquistó ...   \n",
              "2           Empresas  Hombre más rico de Asia reta a Amazon con nuev...   \n",
              "3           Empresas  Italia inicia el camino para suspender las con...   \n",
              "4           Política  Elecciones 2020: JNE confirma dos candidaturas...   \n",
              "...              ...                                                ...   \n",
              "11922       Política  Comisión del Congreso citará al alcalde de Lim...   \n",
              "11923          Mundo  Dakar echa raíces en el desierto de Arabia Sau...   \n",
              "11924          Mundo  Ómicron crece en Latinoamérica, países descart...   \n",
              "11925       Economía  MEF flexibiliza deducción de gastos para el pa...   \n",
              "11926       Política  Pedro Castillo: una de las metas para el 2022 ...   \n",
              "\n",
              "                                                    href       fecha  \\\n",
              "0      /economia/david-stern-el-hombre-que-transformo...  2020-01-01   \n",
              "1      /mundo/internacional/como-un-pais-con-vinos-de...  2020-01-01   \n",
              "2      /economia/empresas/hombre-mas-rico-de-asia-ret...  2020-01-01   \n",
              "3      /economia/empresas/italia-inicia-el-camino-par...  2020-01-01   \n",
              "4      /peru/politica/elecciones-2020-jne-confirma-do...  2020-01-01   \n",
              "...                                                  ...         ...   \n",
              "11922  /peru/politica/incendio-en-mesa-redonda-congre...  2021-12-31   \n",
              "11923  /mundo/dakar-echa-raices-en-el-desierto-de-ara...  2021-12-31   \n",
              "11924  /mundo/covid-ops-omicron-crece-en-latinoameric...  2021-12-31   \n",
              "11925  /economia/mef-flexibiliza-deduccion-de-gastos-...  2021-12-31   \n",
              "11926  /peru/politica/pedro-castillo-una-de-las-metas...  2021-12-31   \n",
              "\n",
              "                                                   title  \n",
              "0      David Stern, the man who transformed the NBA i...  \n",
              "1      How a country with unknown wines conquered New...  \n",
              "2      Asia's richest man challenges Amazon with new ...  \n",
              "3      Italy begins the path to suspend concessions t...  \n",
              "4      Elections 2020: JNE confirms two candidacies a...  \n",
              "...                                                  ...  \n",
              "11922  Congress Commission will summon the mayor of L...  \n",
              "11923  Dakar takes root in the desert of Saudi Arabia...  \n",
              "11924  Ómicron grows in Latin America, countries rule...  \n",
              "11925  MEF makes deduction of expenses for the paymen...  \n",
              "11926  Pedro Castillo: one of the goals for 2022 is t...  \n",
              "\n",
              "[11927 rows x 5 columns]"
            ]
          },
          "execution_count": 15,
          "metadata": {},
          "output_type": "execute_result"
        }
      ],
      "source": [
        "df"
      ]
    },
    {
      "cell_type": "markdown",
      "metadata": {
        "id": "BKLPEEa1WWSF"
      },
      "source": [
        "# Saving the dataframe for Analaysis\n",
        "\n",
        "Once the translation of all the titles is finished, you will have completed all the necessary content to save the data into the project repository and continue onto the analysis.\n",
        "\n",
        "But do not leave before you save, that would suck"
      ]
    },
    {
      "cell_type": "code",
      "execution_count": null,
      "metadata": {
        "id": "JpRQzBSVR_36"
      },
      "outputs": [],
      "source": [
        "project_data_path = '/content/drive/MyDrive/project_peruvian_news/data'\n",
        "df.to_csv(project_data_path+'/data_news.csv')"
      ]
    }
  ],
  "metadata": {
    "colab": {
      "name": "ScrapeAndProcess.ipynb",
      "provenance": []
    },
    "kernelspec": {
      "display_name": "Python 3",
      "name": "python3"
    },
    "language_info": {
      "name": "python"
    }
  },
  "nbformat": 4,
  "nbformat_minor": 0
}